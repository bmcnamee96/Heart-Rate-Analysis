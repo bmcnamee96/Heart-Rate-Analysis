{
 "cells": [
  {
   "cell_type": "markdown",
   "metadata": {},
   "source": [
    "# Import Data"
   ]
  },
  {
   "cell_type": "code",
   "execution_count": 1,
   "metadata": {},
   "outputs": [],
   "source": [
    "# import dependencies\n",
    "from bs4 import BeautifulSoup\n",
    "import pandas as pd\n",
    "from datetime import date, datetime, timedelta, time\n",
    "import re\n",
    "import numpy as np"
   ]
  },
  {
   "cell_type": "code",
   "execution_count": 2,
   "metadata": {},
   "outputs": [],
   "source": [
    "# open and read the xml file\n",
    "file_path = ('../apple_health_export/export.xml')\n",
    "with open(file_path, 'r') as f:\n",
    "    data = f.read()\n",
    "\n",
    "bs_data = BeautifulSoup(data, 'xml')"
   ]
  },
  {
   "cell_type": "markdown",
   "metadata": {},
   "source": [
    "### Get the data we need"
   ]
  },
  {
   "cell_type": "code",
   "execution_count": 3,
   "metadata": {},
   "outputs": [],
   "source": [
    "# find all of the hr data\n",
    "hr_data = bs_data.find_all(type='HKQuantityTypeIdentifierHeartRate')"
   ]
  },
  {
   "cell_type": "code",
   "execution_count": 4,
   "metadata": {},
   "outputs": [],
   "source": [
    "# find all of the audio exposure data\n",
    "sound_data = bs_data.find_all(type=\"HKQuantityTypeIdentifierEnvironmentalAudioExposure\")"
   ]
  },
  {
   "cell_type": "markdown",
   "metadata": {},
   "source": [
    "## Rework Data"
   ]
  },
  {
   "cell_type": "markdown",
   "metadata": {},
   "source": [
    "#### Heart Rate Data"
   ]
  },
  {
   "cell_type": "code",
   "execution_count": 7,
   "metadata": {},
   "outputs": [],
   "source": [
    "# create the lists we want to hold the data\n",
    "date_creation = []\n",
    "time_creation = []\n",
    "hr_value = []\n",
    "hr_bin = []\n",
    "time_bin = []\n",
    "\n",
    "# create a dictionary with the data\n",
    "hr_dict = {\n",
    "    'date_created': date_creation,\n",
    "    'time_created': time_creation,\n",
    "    'hr_values': hr_value,\n",
    "    'hr_bin': hr_bin,\n",
    "    'time_bin': time_bin\n",
    "}\n",
    "\n",
    "# loop through the data to pull the data we need\n",
    "for idx, hr in enumerate(hr_data):\n",
    "    creation_list = hr['creationDate']\n",
    "    creation = creation_list.split()\n",
    "    date_creation.append(creation[0])\n",
    "    time_creation.append(creation[1])\n",
    "\n",
    "    hr_value.append(float(hr['value']))\n",
    "\n",
    "# create bins for hr values\n",
    "# high > 100\n",
    "# low < 60\n",
    "# normal 60-100\n",
    "for i in hr_value:\n",
    "    if i > 100:\n",
    "        hr_bin.append('high')\n",
    "    elif i < 60:\n",
    "        hr_bin.append('low')\n",
    "    else:\n",
    "        hr_bin.append('normal')\n",
    "\n",
    "# bins for each time range\n",
    "def time_in_range(start_time, end_time, creation_time):\n",
    "    return start_time.strftime('%H:%M:%S') <= creation_time.strftime('%H:%M:%S') <= end_time.strftime('%H:%M:%S')\n",
    "\n",
    "# the start and end times\n",
    "# before first class 0\n",
    "start_time_1 = time(6, 45, 0)\n",
    "end_time_1 = time(9, 25, 0)\n",
    "# 5th Grade\n",
    "start_time_2 = time(9, 30, 0)\n",
    "end_time_2 = time(10, 15, 0)\n",
    "# 4th Grade\n",
    "start_time_3 = time(10, 20, 0)\n",
    "end_time_3 = time(11, 5, 0)\n",
    "# lunch\n",
    "start_time_4 = time(11, 5, 0)\n",
    "end_time_4 = time(11, 35, 0)\n",
    "# kinder\n",
    "start_time_5 = time(11, 35, 0)\n",
    "end_time_5 = time(12, 20, 0)\n",
    "# 1st grade\n",
    "start_time_6 = time(12, 25, 0)\n",
    "end_time_6 = time(13, 10, 0)\n",
    "# 3rd grade\n",
    "start_time_7 = time(13, 15, 0)\n",
    "end_time_7 = time(14, 0, 0)\n",
    "# 2nd grade\n",
    "start_time_8 = time(14, 5, 0)\n",
    "end_time_8 = time(14, 50, 0)\n",
    "# dismissal\n",
    "start_time_9 = time(14, 50, 0)\n",
    "end_time_9 = time(16, 0, 0)\n",
    "\n",
    "\n",
    "for i in hr_dict['time_created']:\n",
    "    creation_time = i\n",
    "    time_dt = datetime.strptime(creation_time, '%H:%M:%S')\n",
    "    time_dt.strftime('%H:%M:%S')\n",
    "    if time_in_range(start_time_1, end_time_1, time_dt) == True:\n",
    "        time_bin.append(1)\n",
    "    elif time_in_range(start_time_2, end_time_2, time_dt) == True:\n",
    "        time_bin.append(2)\n",
    "    elif time_in_range(start_time_3, end_time_3, time_dt) == True:\n",
    "        time_bin.append(3)\n",
    "    elif time_in_range(start_time_4, end_time_4, time_dt) == True:\n",
    "        time_bin.append(4)\n",
    "    elif time_in_range(start_time_5, end_time_5, time_dt) == True:\n",
    "        time_bin.append(5)\n",
    "    elif time_in_range(start_time_6, end_time_6, time_dt) == True:\n",
    "        time_bin.append(6)\n",
    "    elif time_in_range(start_time_7, end_time_7, time_dt) == True:\n",
    "        time_bin.append(7)\n",
    "    elif time_in_range(start_time_8, end_time_8, time_dt) == True:\n",
    "        time_bin.append(8)\n",
    "    elif time_in_range(start_time_9, end_time_9, time_dt) == True:\n",
    "        time_bin.append(9)\n",
    "    else:\n",
    "        time_bin.append(0)"
   ]
  },
  {
   "cell_type": "code",
   "execution_count": 9,
   "metadata": {},
   "outputs": [
    {
     "data": {
      "text/html": [
       "<div>\n",
       "<style scoped>\n",
       "    .dataframe tbody tr th:only-of-type {\n",
       "        vertical-align: middle;\n",
       "    }\n",
       "\n",
       "    .dataframe tbody tr th {\n",
       "        vertical-align: top;\n",
       "    }\n",
       "\n",
       "    .dataframe thead th {\n",
       "        text-align: right;\n",
       "    }\n",
       "</style>\n",
       "<table border=\"1\" class=\"dataframe\">\n",
       "  <thead>\n",
       "    <tr style=\"text-align: right;\">\n",
       "      <th></th>\n",
       "      <th>hr_values</th>\n",
       "      <th>time_bin</th>\n",
       "    </tr>\n",
       "  </thead>\n",
       "  <tbody>\n",
       "    <tr>\n",
       "      <th>count</th>\n",
       "      <td>125156.000000</td>\n",
       "      <td>125156.000000</td>\n",
       "    </tr>\n",
       "    <tr>\n",
       "      <th>mean</th>\n",
       "      <td>86.310397</td>\n",
       "      <td>2.384240</td>\n",
       "    </tr>\n",
       "    <tr>\n",
       "      <th>std</th>\n",
       "      <td>24.331602</td>\n",
       "      <td>3.229963</td>\n",
       "    </tr>\n",
       "    <tr>\n",
       "      <th>min</th>\n",
       "      <td>39.000000</td>\n",
       "      <td>0.000000</td>\n",
       "    </tr>\n",
       "    <tr>\n",
       "      <th>25%</th>\n",
       "      <td>70.000000</td>\n",
       "      <td>0.000000</td>\n",
       "    </tr>\n",
       "    <tr>\n",
       "      <th>50%</th>\n",
       "      <td>81.000000</td>\n",
       "      <td>0.000000</td>\n",
       "    </tr>\n",
       "    <tr>\n",
       "      <th>75%</th>\n",
       "      <td>96.000000</td>\n",
       "      <td>5.000000</td>\n",
       "    </tr>\n",
       "    <tr>\n",
       "      <th>max</th>\n",
       "      <td>203.000000</td>\n",
       "      <td>9.000000</td>\n",
       "    </tr>\n",
       "  </tbody>\n",
       "</table>\n",
       "</div>"
      ],
      "text/plain": [
       "           hr_values       time_bin\n",
       "count  125156.000000  125156.000000\n",
       "mean       86.310397       2.384240\n",
       "std        24.331602       3.229963\n",
       "min        39.000000       0.000000\n",
       "25%        70.000000       0.000000\n",
       "50%        81.000000       0.000000\n",
       "75%        96.000000       5.000000\n",
       "max       203.000000       9.000000"
      ]
     },
     "execution_count": 9,
     "metadata": {},
     "output_type": "execute_result"
    }
   ],
   "source": [
    "# create a df\n",
    "hr_df = pd.DataFrame(hr_dict)\n",
    "hr_df.describe()"
   ]
  },
  {
   "cell_type": "markdown",
   "metadata": {},
   "source": [
    "# Work Days"
   ]
  },
  {
   "cell_type": "code",
   "execution_count": 10,
   "metadata": {},
   "outputs": [],
   "source": [
    "# Returns whether day is in the range [start, end]\n",
    "def date_in_range(start, end, day):\n",
    "    return start <= day <= end\n",
    "\n",
    "# the start and end days\n",
    "start = datetime(2022, 3, 28)\n",
    "end = datetime(2022, 6, 9)"
   ]
  },
  {
   "cell_type": "code",
   "execution_count": 22,
   "metadata": {},
   "outputs": [],
   "source": [
    "date_creation = []\n",
    "time_creation = []\n",
    "hr_value = []\n",
    "hr_bin = []\n",
    "time_bin = []\n",
    "day_week = []\n",
    "\n",
    "# grabbing all the rows for the selected time range\n",
    "for idx, row in hr_df.iterrows():\n",
    "    day = row['date_created']\n",
    "    day_dt = datetime.strptime(day, '%Y-%m-%d')\n",
    "    if date_in_range(start, end, day_dt) == True:\n",
    "        day_week.append(datetime.weekday(day_dt))\n",
    "        date_creation.append(day)\n",
    "        time_creation.append(row['time_created'])\n",
    "        hr_value.append(row['hr_values'])\n",
    "        hr_bin.append(row['hr_bin'])\n",
    "        time_bin.append(row['time_bin'])\n",
    "\n",
    "school_dict = {\n",
    "    'date_created': date_creation,\n",
    "    'time_created': time_creation,\n",
    "    'hr_values': hr_value,\n",
    "    'hr_bin': hr_bin,\n",
    "    'time_bin': time_bin,\n",
    "    'day_week': day_week\n",
    "}\n",
    "\n",
    "school_df = pd.DataFrame(school_dict)\n",
    "\n",
    "# removing all the weekend days\n",
    "school_df = school_df[school_df['day_week'] < 5]\n",
    "school_df.to_csv('work_hr.csv', index =False)"
   ]
  },
  {
   "cell_type": "markdown",
   "metadata": {},
   "source": [
    "## Daily DataFrame\n",
    "- find unique dates\n",
    "- find avg_hr, min_hr, max_hr, median_hr for each day"
   ]
  },
  {
   "cell_type": "code",
   "execution_count": 70,
   "metadata": {},
   "outputs": [],
   "source": [
    "unique_dates = []\n",
    "daily_info = []\n",
    "avg_hr_list = []\n",
    "max_hr_list = []\n",
    "min_hr_list = []\n",
    "median_hr_list = []\n",
    "day_of_week_list = []\n",
    "\n",
    "# find each day within the school_df\n",
    "for i in school_df['date_created']:\n",
    "    if i not in unique_dates:\n",
    "        unique_dates.append(i)\n",
    "\n",
    "# find the avg_hr, min_hr, max_hr, and median_hr for each day\n",
    "for i in unique_dates:\n",
    "    hrs = []\n",
    "    for idx, row in school_df.iterrows():\n",
    "        if i == row['date_created']:\n",
    "            hrs.append(row['hr_values'])\n",
    "\n",
    "    # use numpy to determine mean, min, max, median\n",
    "    avg_hr = np.mean(hrs)\n",
    "    min_hr = np.min(hrs)\n",
    "    max_hr = np.max(hrs)\n",
    "    median_hr = np.median(hrs)\n",
    "    \n",
    "    # append each respective list with value\n",
    "    avg_hr_list.append(avg_hr)\n",
    "    max_hr_list.append(max_hr)\n",
    "    min_hr_list.append(min_hr)\n",
    "    median_hr_list.append(median_hr)\n",
    "\n",
    "    day = i\n",
    "    day_dt = datetime.strptime(day, '%Y-%m-%d')\n",
    "    day_of_week = datetime.weekday(day_dt)\n",
    "    day_of_week_list.append(day_of_week)\n",
    "\n",
    "    daily_dicts = {\n",
    "        'day': i,\n",
    "        'avg_hr': avg_hr,\n",
    "        'min_hr': min_hr,\n",
    "        'max_hr': max_hr,\n",
    "        'median_hr': median_hr, \n",
    "        'day_week': day_of_week\n",
    "    }\n",
    "\n",
    "    daily_info.append(daily_dicts)\n",
    "\n",
    "# create daily_df\n",
    "daily_df = pd.DataFrame(daily_info)"
   ]
  },
  {
   "cell_type": "code",
   "execution_count": 74,
   "metadata": {},
   "outputs": [
    {
     "data": {
      "text/html": [
       "<div>\n",
       "<style scoped>\n",
       "    .dataframe tbody tr th:only-of-type {\n",
       "        vertical-align: middle;\n",
       "    }\n",
       "\n",
       "    .dataframe tbody tr th {\n",
       "        vertical-align: top;\n",
       "    }\n",
       "\n",
       "    .dataframe thead th {\n",
       "        text-align: right;\n",
       "    }\n",
       "</style>\n",
       "<table border=\"1\" class=\"dataframe\">\n",
       "  <thead>\n",
       "    <tr style=\"text-align: right;\">\n",
       "      <th></th>\n",
       "      <th>day</th>\n",
       "      <th>avg_hr</th>\n",
       "      <th>min_hr</th>\n",
       "      <th>max_hr</th>\n",
       "      <th>median_hr</th>\n",
       "      <th>week_day</th>\n",
       "    </tr>\n",
       "  </thead>\n",
       "  <tbody>\n",
       "    <tr>\n",
       "      <th>0</th>\n",
       "      <td>2022-03-28</td>\n",
       "      <td>94.961433</td>\n",
       "      <td>61.0</td>\n",
       "      <td>126.0</td>\n",
       "      <td>100.0</td>\n",
       "      <td>0</td>\n",
       "    </tr>\n",
       "    <tr>\n",
       "      <th>1</th>\n",
       "      <td>2022-03-29</td>\n",
       "      <td>82.673681</td>\n",
       "      <td>56.0</td>\n",
       "      <td>127.0</td>\n",
       "      <td>81.0</td>\n",
       "      <td>1</td>\n",
       "    </tr>\n",
       "    <tr>\n",
       "      <th>2</th>\n",
       "      <td>2022-03-30</td>\n",
       "      <td>75.848700</td>\n",
       "      <td>51.0</td>\n",
       "      <td>111.0</td>\n",
       "      <td>75.0</td>\n",
       "      <td>2</td>\n",
       "    </tr>\n",
       "    <tr>\n",
       "      <th>3</th>\n",
       "      <td>2022-03-31</td>\n",
       "      <td>83.492542</td>\n",
       "      <td>59.0</td>\n",
       "      <td>123.0</td>\n",
       "      <td>81.0</td>\n",
       "      <td>3</td>\n",
       "    </tr>\n",
       "    <tr>\n",
       "      <th>4</th>\n",
       "      <td>2022-04-01</td>\n",
       "      <td>92.928273</td>\n",
       "      <td>56.0</td>\n",
       "      <td>126.0</td>\n",
       "      <td>95.0</td>\n",
       "      <td>4</td>\n",
       "    </tr>\n",
       "  </tbody>\n",
       "</table>\n",
       "</div>"
      ],
      "text/plain": [
       "          day     avg_hr  min_hr  max_hr  median_hr  week_day\n",
       "0  2022-03-28  94.961433    61.0   126.0      100.0         0\n",
       "1  2022-03-29  82.673681    56.0   127.0       81.0         1\n",
       "2  2022-03-30  75.848700    51.0   111.0       75.0         2\n",
       "3  2022-03-31  83.492542    59.0   123.0       81.0         3\n",
       "4  2022-04-01  92.928273    56.0   126.0       95.0         4"
      ]
     },
     "execution_count": 74,
     "metadata": {},
     "output_type": "execute_result"
    }
   ],
   "source": [
    "# show daily_df\n",
    "daily_df.head(5)"
   ]
  },
  {
   "cell_type": "markdown",
   "metadata": {},
   "source": [
    "### Figuring out which day of the week had highest values"
   ]
  },
  {
   "cell_type": "code",
   "execution_count": 94,
   "metadata": {},
   "outputs": [],
   "source": [
    "\n",
    "monday_df = pd.DataFrame(school_df[school_df['day_week']==0])\n",
    "tuesday_df = pd.DataFrame(school_df[school_df['day_week']==1])"
   ]
  },
  {
   "cell_type": "code",
   "execution_count": 104,
   "metadata": {},
   "outputs": [
    {
     "data": {
      "text/plain": [
       "98.088683247918"
      ]
     },
     "execution_count": 104,
     "metadata": {},
     "output_type": "execute_result"
    }
   ],
   "source": [
    "mon_avg = school_df[school_df['day_week']==0]\n",
    "mon_avg = np.mean(mon_avg['hr_values'])\n",
    "mon_avg"
   ]
  },
  {
   "cell_type": "code",
   "execution_count": 106,
   "metadata": {},
   "outputs": [
    {
     "data": {
      "text/plain": [
       "89.22082773393461"
      ]
     },
     "execution_count": 106,
     "metadata": {},
     "output_type": "execute_result"
    }
   ],
   "source": [
    "tue_avg = school_df[school_df['day_week']==1]\n",
    "tue_avg = np.mean(tue_avg['hr_values'])\n",
    "tue_avg"
   ]
  },
  {
   "cell_type": "code",
   "execution_count": 107,
   "metadata": {},
   "outputs": [
    {
     "data": {
      "text/plain": [
       "79.64808369330453"
      ]
     },
     "execution_count": 107,
     "metadata": {},
     "output_type": "execute_result"
    }
   ],
   "source": [
    "wed_avg = school_df[school_df['day_week']==2]\n",
    "wed_avg = np.mean(wed_avg['hr_values'])\n",
    "wed_avg"
   ]
  },
  {
   "cell_type": "code",
   "execution_count": 108,
   "metadata": {},
   "outputs": [
    {
     "data": {
      "text/plain": [
       "75.47185761904761"
      ]
     },
     "execution_count": 108,
     "metadata": {},
     "output_type": "execute_result"
    }
   ],
   "source": [
    "thu_avg = school_df[school_df['day_week']==3]\n",
    "thu_avg = np.mean(thu_avg['hr_values'])\n",
    "thu_avg"
   ]
  },
  {
   "cell_type": "code",
   "execution_count": 109,
   "metadata": {},
   "outputs": [
    {
     "data": {
      "text/plain": [
       "85.36060530570995"
      ]
     },
     "execution_count": 109,
     "metadata": {},
     "output_type": "execute_result"
    }
   ],
   "source": [
    "fri_avg = school_df[school_df['day_week']==4]\n",
    "fri_avg = np.mean(fri_avg['hr_values'])\n",
    "fri_avg"
   ]
  },
  {
   "cell_type": "code",
   "execution_count": null,
   "metadata": {},
   "outputs": [],
   "source": []
  }
 ],
 "metadata": {
  "interpreter": {
   "hash": "0f6f2fa7f268b317200ccb4bf94fbe82974adf8aa0760e06c92d23da5f619a2c"
  },
  "kernelspec": {
   "display_name": "Python 3 (ipykernel)",
   "language": "python",
   "name": "python3"
  },
  "language_info": {
   "codemirror_mode": {
    "name": "ipython",
    "version": 3
   },
   "file_extension": ".py",
   "mimetype": "text/x-python",
   "name": "python",
   "nbconvert_exporter": "python",
   "pygments_lexer": "ipython3",
   "version": "3.7.6"
  }
 },
 "nbformat": 4,
 "nbformat_minor": 2
}
