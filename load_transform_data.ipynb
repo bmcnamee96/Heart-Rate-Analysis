{
 "cells": [
  {
   "cell_type": "markdown",
   "id": "fb4f2ba0",
   "metadata": {},
   "source": [
    "# Transform Data\n",
    "- from massive xml file to csv file that is easy to use\n",
    "---------------------------------------------------------\n",
    "- hr data\n",
    "- audio exposure data\n",
    "- step count data"
   ]
  },
  {
   "cell_type": "code",
   "execution_count": 1,
   "id": "3c3e121e",
   "metadata": {},
   "outputs": [],
   "source": [
    "# import dependencies\n",
    "import pandas as pd\n",
    "from bs4 import BeautifulSoup as bs"
   ]
  },
  {
   "cell_type": "code",
   "execution_count": 2,
   "id": "e55380fa",
   "metadata": {},
   "outputs": [],
   "source": [
    "# load the data\n",
    "file_path = '../Resources/export.xml'\n",
    "with open(file_path, 'r') as f:\n",
    "    data = f.read()\n",
    "bs_data = bs(data, 'xml')"
   ]
  },
  {
   "cell_type": "markdown",
   "id": "874b913f",
   "metadata": {},
   "source": [
    "### Heart Rate Data"
   ]
  },
  {
   "cell_type": "code",
   "execution_count": 3,
   "id": "c2e685f6",
   "metadata": {},
   "outputs": [],
   "source": [
    "# find all of the hr data\n",
    "hr_data = bs_data.find_all(type='HKQuantityTypeIdentifierHeartRate')"
   ]
  },
  {
   "cell_type": "code",
   "execution_count": 4,
   "id": "4c188757",
   "metadata": {},
   "outputs": [],
   "source": [
    "# create the lists we want to hold the data\n",
    "date_creation = []\n",
    "time_creation = []\n",
    "hr_value = []\n",
    "\n",
    "# create a dictionary with the data\n",
    "hr_dict = {\n",
    "    'date_created': date_creation,\n",
    "    'time_created': time_creation,\n",
    "    'values': hr_value\n",
    "}\n",
    "\n",
    "# loop through the data to pull the data we need\n",
    "for idx, hr in enumerate(hr_data):\n",
    "    creation_list = hr['creationDate']\n",
    "    creation = creation_list.split()\n",
    "    date_creation.append(creation[0])\n",
    "    time_creation.append(creation[1])\n",
    "\n",
    "    hr_value.append(float(hr['value']))"
   ]
  },
  {
   "cell_type": "code",
   "execution_count": 5,
   "id": "42bd285a",
   "metadata": {},
   "outputs": [
    {
     "data": {
      "text/html": [
       "<div>\n",
       "<style scoped>\n",
       "    .dataframe tbody tr th:only-of-type {\n",
       "        vertical-align: middle;\n",
       "    }\n",
       "\n",
       "    .dataframe tbody tr th {\n",
       "        vertical-align: top;\n",
       "    }\n",
       "\n",
       "    .dataframe thead th {\n",
       "        text-align: right;\n",
       "    }\n",
       "</style>\n",
       "<table border=\"1\" class=\"dataframe\">\n",
       "  <thead>\n",
       "    <tr style=\"text-align: right;\">\n",
       "      <th></th>\n",
       "      <th>date_created</th>\n",
       "      <th>time_created</th>\n",
       "      <th>values</th>\n",
       "    </tr>\n",
       "  </thead>\n",
       "  <tbody>\n",
       "    <tr>\n",
       "      <th>0</th>\n",
       "      <td>2015-12-25</td>\n",
       "      <td>14:06:03</td>\n",
       "      <td>65.0</td>\n",
       "    </tr>\n",
       "    <tr>\n",
       "      <th>1</th>\n",
       "      <td>2015-12-25</td>\n",
       "      <td>14:25:52</td>\n",
       "      <td>107.0</td>\n",
       "    </tr>\n",
       "    <tr>\n",
       "      <th>2</th>\n",
       "      <td>2015-12-25</td>\n",
       "      <td>14:33:08</td>\n",
       "      <td>67.0</td>\n",
       "    </tr>\n",
       "    <tr>\n",
       "      <th>3</th>\n",
       "      <td>2015-12-25</td>\n",
       "      <td>14:43:08</td>\n",
       "      <td>97.0</td>\n",
       "    </tr>\n",
       "    <tr>\n",
       "      <th>4</th>\n",
       "      <td>2015-12-25</td>\n",
       "      <td>14:52:27</td>\n",
       "      <td>61.0</td>\n",
       "    </tr>\n",
       "  </tbody>\n",
       "</table>\n",
       "</div>"
      ],
      "text/plain": [
       "  date_created time_created  values\n",
       "0   2015-12-25     14:06:03    65.0\n",
       "1   2015-12-25     14:25:52   107.0\n",
       "2   2015-12-25     14:33:08    67.0\n",
       "3   2015-12-25     14:43:08    97.0\n",
       "4   2015-12-25     14:52:27    61.0"
      ]
     },
     "execution_count": 5,
     "metadata": {},
     "output_type": "execute_result"
    }
   ],
   "source": [
    "# create a df\n",
    "hr_df = pd.DataFrame(hr_dict)\n",
    "hr_df.head()"
   ]
  },
  {
   "cell_type": "code",
   "execution_count": 6,
   "id": "a7961539",
   "metadata": {},
   "outputs": [],
   "source": [
    "# export the data to a csv file\n",
    "new_file_path = '../Resources/hr_data.csv'\n",
    "hr_df.to_csv(new_file_path, index=False)"
   ]
  },
  {
   "cell_type": "markdown",
   "id": "654387ae",
   "metadata": {},
   "source": [
    "### Audio Exposure"
   ]
  },
  {
   "cell_type": "code",
   "execution_count": 7,
   "id": "be0aba1f",
   "metadata": {},
   "outputs": [],
   "source": [
    "# find all of the audio exposure data\n",
    "sound_data = bs_data.find_all(type=\"HKQuantityTypeIdentifierEnvironmentalAudioExposure\")"
   ]
  },
  {
   "cell_type": "code",
   "execution_count": 8,
   "id": "8bed8585",
   "metadata": {},
   "outputs": [],
   "source": [
    "# create the lists we want to hold the data\n",
    "date_creation = []\n",
    "time_creation = []\n",
    "sound_value = []\n",
    "\n",
    "# create a dictionary with the data\n",
    "sound_dict = {\n",
    "    'date_created': date_creation,\n",
    "    'time_created': time_creation,\n",
    "    'values': sound_value\n",
    "}\n",
    "\n",
    "# loop through the data to pull the data we need\n",
    "for idx, sound in enumerate(sound_data):\n",
    "    creation_list = sound['creationDate']\n",
    "    creation = creation_list.split()\n",
    "    date_creation.append(creation[0])\n",
    "    time_creation.append(creation[1])\n",
    "\n",
    "    sound_value.append(float(sound['value']))"
   ]
  },
  {
   "cell_type": "code",
   "execution_count": 9,
   "id": "3a93fe1f",
   "metadata": {},
   "outputs": [
    {
     "data": {
      "text/html": [
       "<div>\n",
       "<style scoped>\n",
       "    .dataframe tbody tr th:only-of-type {\n",
       "        vertical-align: middle;\n",
       "    }\n",
       "\n",
       "    .dataframe tbody tr th {\n",
       "        vertical-align: top;\n",
       "    }\n",
       "\n",
       "    .dataframe thead th {\n",
       "        text-align: right;\n",
       "    }\n",
       "</style>\n",
       "<table border=\"1\" class=\"dataframe\">\n",
       "  <thead>\n",
       "    <tr style=\"text-align: right;\">\n",
       "      <th></th>\n",
       "      <th>date_created</th>\n",
       "      <th>time_created</th>\n",
       "      <th>values</th>\n",
       "    </tr>\n",
       "  </thead>\n",
       "  <tbody>\n",
       "    <tr>\n",
       "      <th>0</th>\n",
       "      <td>2021-03-09</td>\n",
       "      <td>15:14:42</td>\n",
       "      <td>60.6016</td>\n",
       "    </tr>\n",
       "    <tr>\n",
       "      <th>1</th>\n",
       "      <td>2021-03-09</td>\n",
       "      <td>15:38:53</td>\n",
       "      <td>66.6931</td>\n",
       "    </tr>\n",
       "    <tr>\n",
       "      <th>2</th>\n",
       "      <td>2021-03-09</td>\n",
       "      <td>16:05:54</td>\n",
       "      <td>57.5056</td>\n",
       "    </tr>\n",
       "    <tr>\n",
       "      <th>3</th>\n",
       "      <td>2021-03-09</td>\n",
       "      <td>16:39:09</td>\n",
       "      <td>71.8202</td>\n",
       "    </tr>\n",
       "    <tr>\n",
       "      <th>4</th>\n",
       "      <td>2021-03-09</td>\n",
       "      <td>17:09:26</td>\n",
       "      <td>69.3809</td>\n",
       "    </tr>\n",
       "  </tbody>\n",
       "</table>\n",
       "</div>"
      ],
      "text/plain": [
       "  date_created time_created   values\n",
       "0   2021-03-09     15:14:42  60.6016\n",
       "1   2021-03-09     15:38:53  66.6931\n",
       "2   2021-03-09     16:05:54  57.5056\n",
       "3   2021-03-09     16:39:09  71.8202\n",
       "4   2021-03-09     17:09:26  69.3809"
      ]
     },
     "execution_count": 9,
     "metadata": {},
     "output_type": "execute_result"
    }
   ],
   "source": [
    "# create a df\n",
    "sound_df = pd.DataFrame(sound_dict)\n",
    "sound_df.head()"
   ]
  },
  {
   "cell_type": "code",
   "execution_count": 10,
   "id": "af7f6d0c",
   "metadata": {},
   "outputs": [],
   "source": [
    "# export the data to a csv file\n",
    "new_file_path = '../Resources/sound_data.csv'\n",
    "sound_df.to_csv(new_file_path, index=False)"
   ]
  },
  {
   "cell_type": "markdown",
   "id": "9a7562ef",
   "metadata": {},
   "source": [
    "### Step Count"
   ]
  },
  {
   "cell_type": "code",
   "execution_count": 11,
   "id": "de9f9117",
   "metadata": {},
   "outputs": [],
   "source": [
    "# find all of the step data\n",
    "step_data = bs_data.find_all(type=\"HKQuantityTypeIdentifierStepCount\")"
   ]
  },
  {
   "cell_type": "code",
   "execution_count": 12,
   "id": "7e58b3ea",
   "metadata": {},
   "outputs": [],
   "source": [
    "# create the lists we want to hold the data\n",
    "date_creation = []\n",
    "time_creation = []\n",
    "step_value = []\n",
    "\n",
    "# create a dictionary with the data\n",
    "step_dict = {\n",
    "    'date_created': date_creation,\n",
    "    'time_created': time_creation,\n",
    "    'values': step_value\n",
    "}\n",
    "\n",
    "# loop through the data to pull the data we need\n",
    "for idx, step in enumerate(step_data):\n",
    "    creation_list = step['creationDate']\n",
    "    creation = creation_list.split()\n",
    "    date_creation.append(creation[0])\n",
    "    time_creation.append(creation[1])\n",
    "\n",
    "    step_value.append(float(step['value']))"
   ]
  },
  {
   "cell_type": "code",
   "execution_count": 13,
   "id": "af09a407",
   "metadata": {},
   "outputs": [
    {
     "data": {
      "text/html": [
       "<div>\n",
       "<style scoped>\n",
       "    .dataframe tbody tr th:only-of-type {\n",
       "        vertical-align: middle;\n",
       "    }\n",
       "\n",
       "    .dataframe tbody tr th {\n",
       "        vertical-align: top;\n",
       "    }\n",
       "\n",
       "    .dataframe thead th {\n",
       "        text-align: right;\n",
       "    }\n",
       "</style>\n",
       "<table border=\"1\" class=\"dataframe\">\n",
       "  <thead>\n",
       "    <tr style=\"text-align: right;\">\n",
       "      <th></th>\n",
       "      <th>date_created</th>\n",
       "      <th>time_created</th>\n",
       "      <th>values</th>\n",
       "    </tr>\n",
       "  </thead>\n",
       "  <tbody>\n",
       "    <tr>\n",
       "      <th>0</th>\n",
       "      <td>2019-01-11</td>\n",
       "      <td>21:06:02</td>\n",
       "      <td>82.0</td>\n",
       "    </tr>\n",
       "    <tr>\n",
       "      <th>1</th>\n",
       "      <td>2019-01-11</td>\n",
       "      <td>21:15:42</td>\n",
       "      <td>383.0</td>\n",
       "    </tr>\n",
       "    <tr>\n",
       "      <th>2</th>\n",
       "      <td>2019-01-11</td>\n",
       "      <td>21:27:32</td>\n",
       "      <td>27.0</td>\n",
       "    </tr>\n",
       "    <tr>\n",
       "      <th>3</th>\n",
       "      <td>2019-01-11</td>\n",
       "      <td>21:46:31</td>\n",
       "      <td>93.0</td>\n",
       "    </tr>\n",
       "    <tr>\n",
       "      <th>4</th>\n",
       "      <td>2019-01-11</td>\n",
       "      <td>22:10:05</td>\n",
       "      <td>33.0</td>\n",
       "    </tr>\n",
       "  </tbody>\n",
       "</table>\n",
       "</div>"
      ],
      "text/plain": [
       "  date_created time_created  values\n",
       "0   2019-01-11     21:06:02    82.0\n",
       "1   2019-01-11     21:15:42   383.0\n",
       "2   2019-01-11     21:27:32    27.0\n",
       "3   2019-01-11     21:46:31    93.0\n",
       "4   2019-01-11     22:10:05    33.0"
      ]
     },
     "execution_count": 13,
     "metadata": {},
     "output_type": "execute_result"
    }
   ],
   "source": [
    "# create a df\n",
    "step_df = pd.DataFrame(step_dict)\n",
    "step_df.head()"
   ]
  },
  {
   "cell_type": "code",
   "execution_count": 14,
   "id": "bf38e217",
   "metadata": {},
   "outputs": [],
   "source": [
    "# export the data to a csv file\n",
    "new_file_path = '../Resources/step_data.csv'\n",
    "step_df.to_csv(new_file_path, index=False)"
   ]
  },
  {
   "cell_type": "code",
   "execution_count": null,
   "id": "725fd957",
   "metadata": {},
   "outputs": [],
   "source": []
  }
 ],
 "metadata": {
  "kernelspec": {
   "display_name": "Python 3 (ipykernel)",
   "language": "python",
   "name": "python3"
  },
  "language_info": {
   "codemirror_mode": {
    "name": "ipython",
    "version": 3
   },
   "file_extension": ".py",
   "mimetype": "text/x-python",
   "name": "python",
   "nbconvert_exporter": "python",
   "pygments_lexer": "ipython3",
   "version": "3.9.7"
  }
 },
 "nbformat": 4,
 "nbformat_minor": 5
}
