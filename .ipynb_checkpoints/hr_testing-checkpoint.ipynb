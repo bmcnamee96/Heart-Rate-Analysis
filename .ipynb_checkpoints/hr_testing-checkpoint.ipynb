{
 "cells": [
  {
   "cell_type": "markdown",
   "metadata": {},
   "source": [
    "# Import Data"
   ]
  },
  {
   "cell_type": "code",
   "execution_count": null,
   "metadata": {},
   "outputs": [],
   "source": [
    "# import dependencies\n",
    "from bs4 import BeautifulSoup\n",
    "import pandas as pd\n",
    "from datetime import date, datetime, timedelta, time\n",
    "import re\n",
    "import numpy as np"
   ]
  },
  {
   "cell_type": "code",
   "execution_count": 3,
   "metadata": {},
   "outputs": [],
   "source": [
    "# open and read the xml file\n",
    "file_path = ('../apple_health_export/export.xml')\n",
    "with open(file_path, 'r') as f:\n",
    "    data = f.read()\n",
    "\n",
    "bs_data = BeautifulSoup(data, 'xml')"
   ]
  },
  {
   "cell_type": "code",
   "execution_count": 9,
   "metadata": {},
   "outputs": [
    {
     "ename": "TypeError",
     "evalue": "'NoneType' object is not callable",
     "output_type": "error",
     "traceback": [
      "\u001b[1;31m---------------------------------------------------------------------------\u001b[0m",
      "\u001b[1;31mTypeError\u001b[0m                                 Traceback (most recent call last)",
      "Input \u001b[1;32mIn [9]\u001b[0m, in \u001b[0;36m<cell line: 1>\u001b[1;34m()\u001b[0m\n\u001b[1;32m----> 1\u001b[0m \u001b[43mbs_data\u001b[49m\u001b[38;5;241;43m.\u001b[39;49m\u001b[43mhead\u001b[49m\u001b[43m(\u001b[49m\u001b[43m)\u001b[49m\n",
      "\u001b[1;31mTypeError\u001b[0m: 'NoneType' object is not callable"
     ]
    }
   ],
   "source": []
  },
  {
   "cell_type": "markdown",
   "metadata": {},
   "source": [
    "### Get the data we need"
   ]
  },
  {
   "cell_type": "code",
   "execution_count": null,
   "metadata": {},
   "outputs": [],
   "source": [
    "# find all of the hr data\n",
    "hr_data = bs_data.find_all(type='HKQuantityTypeIdentifierHeartRate')"
   ]
  },
  {
   "cell_type": "code",
   "execution_count": 4,
   "metadata": {},
   "outputs": [],
   "source": [
    "# create the lists we want to hold the data\n",
    "date_creation = []\n",
    "time_creation = []\n",
    "hr_value = []\n",
    "hr_bin = []\n",
    "time_bin = []\n",
    "\n",
    "# create a dictionary with the data\n",
    "hr_dict = {\n",
    "    'date_created': date_creation,\n",
    "    'time_created': time_creation,\n",
    "    'hr_values': hr_value,\n",
    "    'hr_bin': hr_bin,\n",
    "    'time_bin': time_bin\n",
    "}\n",
    "\n",
    "# loop through the data to pull the data we need\n",
    "for idx, hr in enumerate(hr_data):\n",
    "    creation_list = hr['creationDate']\n",
    "    creation = creation_list.split()\n",
    "    date_creation.append(creation[0])\n",
    "    time_creation.append(creation[1])\n",
    "\n",
    "    hr_value.append(float(hr['value']))\n",
    "\n",
    "# create bins for hr values\n",
    "# high > 100\n",
    "# low < 60\n",
    "# normal 60-100\n",
    "for i in hr_value:\n",
    "    if i > 100:\n",
    "        hr_bin.append('high')\n",
    "    elif i < 60:\n",
    "        hr_bin.append('low')\n",
    "    else:\n",
    "        hr_bin.append('normal')\n",
    "\n",
    "# bins for each time range\n",
    "def time_in_range(start_time, end_time, creation_time):\n",
    "    return start_time.strftime('%H:%M:%S') <= creation_time.strftime('%H:%M:%S') <= end_time.strftime('%H:%M:%S')\n",
    "\n",
    "# the start and end times\n",
    "# before first class 0\n",
    "start_time_0 = time(6, 45, 0)\n",
    "end_time_0 = time(9, 25, 0)\n",
    "# 5th Grade\n",
    "start_time_1 = time(9, 30, 0)\n",
    "end_time_1 = time(10, 15, 0)\n",
    "# 4th Grade\n",
    "start_time_2 = time(10, 20, 0)\n",
    "end_time_2 = time(11, 5, 0)\n",
    "# lunch\n",
    "start_time_3 = time(11, 5, 0)\n",
    "end_time_3 = time(11, 35, 0)\n",
    "# kinder\n",
    "start_time_4 = time(11, 35, 0)\n",
    "end_time_4 = time(12, 20, 0)\n",
    "# 1st grade\n",
    "start_time_5 = time(12, 25, 0)\n",
    "end_time_5 = time(13, 10, 0)\n",
    "# 3rd grade\n",
    "start_time_6 = time(13, 15, 0)\n",
    "end_time_6 = time(14, 0, 0)\n",
    "# 2nd grade\n",
    "start_time_7 = time(14, 5, 0)\n",
    "end_time_7 = time(14, 50, 0)\n",
    "# end of day\n",
    "start_time_8 = time(14, 50, 0)\n",
    "end_time_8 = time(16, 0, 0)\n",
    "# out of school\n",
    "start_time_9 = time(16, 0, 0)\n",
    "end_time_9 = time(23, 59, 59)\n",
    "\n",
    "\n",
    "for i in hr_dict['time_created']:\n",
    "    creation_time = i\n",
    "    time_dt = datetime.strptime(creation_time, '%H:%M:%S')\n",
    "    time_dt.strftime('%H:%M:%S')\n",
    "    if time_in_range(start_time_0, end_time_0, time_dt) == True:\n",
    "        time_bin.append(0)\n",
    "    elif time_in_range(start_time_1, end_time_1, time_dt) == True:\n",
    "        time_bin.append(1)\n",
    "    elif time_in_range(start_time_2, end_time_2, time_dt) == True:\n",
    "        time_bin.append(2)\n",
    "    elif time_in_range(start_time_3, end_time_3, time_dt) == True:\n",
    "        time_bin.append(3)\n",
    "    elif time_in_range(start_time_4, end_time_4, time_dt) == True:\n",
    "        time_bin.append(4)\n",
    "    elif time_in_range(start_time_5, end_time_5, time_dt) == True:\n",
    "        time_bin.append(5)\n",
    "    elif time_in_range(start_time_6, end_time_6, time_dt) == True:\n",
    "        time_bin.append(6)\n",
    "    elif time_in_range(start_time_7, end_time_7, time_dt) == True:\n",
    "        time_bin.append(7)\n",
    "    elif time_in_range(start_time_8, end_time_8, time_dt) == True:\n",
    "        time_bin.append(8)\n",
    "    elif time_in_range(start_time_9, end_time_9, time_dt) == True:\n",
    "        time_bin.append(9)\n",
    "    else:\n",
    "        time_bin.append(10)"
   ]
  },
  {
   "cell_type": "code",
   "execution_count": 5,
   "metadata": {},
   "outputs": [],
   "source": [
    "# create a df\n",
    "hr_df = pd.DataFrame(hr_dict)"
   ]
  },
  {
   "cell_type": "code",
   "execution_count": 6,
   "metadata": {},
   "outputs": [
    {
     "data": {
      "text/html": [
       "<div>\n",
       "<style scoped>\n",
       "    .dataframe tbody tr th:only-of-type {\n",
       "        vertical-align: middle;\n",
       "    }\n",
       "\n",
       "    .dataframe tbody tr th {\n",
       "        vertical-align: top;\n",
       "    }\n",
       "\n",
       "    .dataframe thead th {\n",
       "        text-align: right;\n",
       "    }\n",
       "</style>\n",
       "<table border=\"1\" class=\"dataframe\">\n",
       "  <thead>\n",
       "    <tr style=\"text-align: right;\">\n",
       "      <th></th>\n",
       "      <th>date_created</th>\n",
       "      <th>time_created</th>\n",
       "      <th>hr_values</th>\n",
       "      <th>hr_bin</th>\n",
       "      <th>time_bin</th>\n",
       "    </tr>\n",
       "  </thead>\n",
       "  <tbody>\n",
       "    <tr>\n",
       "      <th>0</th>\n",
       "      <td>2015-12-25</td>\n",
       "      <td>14:06:03</td>\n",
       "      <td>65.0</td>\n",
       "      <td>normal</td>\n",
       "      <td>7</td>\n",
       "    </tr>\n",
       "    <tr>\n",
       "      <th>1</th>\n",
       "      <td>2015-12-25</td>\n",
       "      <td>14:25:52</td>\n",
       "      <td>107.0</td>\n",
       "      <td>high</td>\n",
       "      <td>7</td>\n",
       "    </tr>\n",
       "    <tr>\n",
       "      <th>2</th>\n",
       "      <td>2015-12-25</td>\n",
       "      <td>14:33:08</td>\n",
       "      <td>67.0</td>\n",
       "      <td>normal</td>\n",
       "      <td>7</td>\n",
       "    </tr>\n",
       "    <tr>\n",
       "      <th>3</th>\n",
       "      <td>2015-12-25</td>\n",
       "      <td>14:43:08</td>\n",
       "      <td>97.0</td>\n",
       "      <td>normal</td>\n",
       "      <td>7</td>\n",
       "    </tr>\n",
       "    <tr>\n",
       "      <th>4</th>\n",
       "      <td>2015-12-25</td>\n",
       "      <td>14:52:27</td>\n",
       "      <td>61.0</td>\n",
       "      <td>normal</td>\n",
       "      <td>8</td>\n",
       "    </tr>\n",
       "    <tr>\n",
       "      <th>...</th>\n",
       "      <td>...</td>\n",
       "      <td>...</td>\n",
       "      <td>...</td>\n",
       "      <td>...</td>\n",
       "      <td>...</td>\n",
       "    </tr>\n",
       "    <tr>\n",
       "      <th>125151</th>\n",
       "      <td>2022-06-11</td>\n",
       "      <td>10:35:53</td>\n",
       "      <td>73.0</td>\n",
       "      <td>normal</td>\n",
       "      <td>2</td>\n",
       "    </tr>\n",
       "    <tr>\n",
       "      <th>125152</th>\n",
       "      <td>2022-06-11</td>\n",
       "      <td>10:41:57</td>\n",
       "      <td>74.0</td>\n",
       "      <td>normal</td>\n",
       "      <td>2</td>\n",
       "    </tr>\n",
       "    <tr>\n",
       "      <th>125153</th>\n",
       "      <td>2022-06-11</td>\n",
       "      <td>10:50:03</td>\n",
       "      <td>68.0</td>\n",
       "      <td>normal</td>\n",
       "      <td>2</td>\n",
       "    </tr>\n",
       "    <tr>\n",
       "      <th>125154</th>\n",
       "      <td>2022-06-11</td>\n",
       "      <td>10:50:54</td>\n",
       "      <td>70.0</td>\n",
       "      <td>normal</td>\n",
       "      <td>2</td>\n",
       "    </tr>\n",
       "    <tr>\n",
       "      <th>125155</th>\n",
       "      <td>2022-06-11</td>\n",
       "      <td>10:56:18</td>\n",
       "      <td>66.0</td>\n",
       "      <td>normal</td>\n",
       "      <td>2</td>\n",
       "    </tr>\n",
       "  </tbody>\n",
       "</table>\n",
       "<p>125156 rows × 5 columns</p>\n",
       "</div>"
      ],
      "text/plain": [
       "       date_created time_created  hr_values  hr_bin  time_bin\n",
       "0        2015-12-25     14:06:03       65.0  normal         7\n",
       "1        2015-12-25     14:25:52      107.0    high         7\n",
       "2        2015-12-25     14:33:08       67.0  normal         7\n",
       "3        2015-12-25     14:43:08       97.0  normal         7\n",
       "4        2015-12-25     14:52:27       61.0  normal         8\n",
       "...             ...          ...        ...     ...       ...\n",
       "125151   2022-06-11     10:35:53       73.0  normal         2\n",
       "125152   2022-06-11     10:41:57       74.0  normal         2\n",
       "125153   2022-06-11     10:50:03       68.0  normal         2\n",
       "125154   2022-06-11     10:50:54       70.0  normal         2\n",
       "125155   2022-06-11     10:56:18       66.0  normal         2\n",
       "\n",
       "[125156 rows x 5 columns]"
      ]
     },
     "execution_count": 6,
     "metadata": {},
     "output_type": "execute_result"
    }
   ],
   "source": [
    "hr_df"
   ]
  },
  {
   "cell_type": "markdown",
   "metadata": {},
   "source": [
    "# Work Days"
   ]
  },
  {
   "cell_type": "code",
   "execution_count": 6,
   "metadata": {},
   "outputs": [],
   "source": [
    "# Returns whether day is in the range [start, end]\n",
    "def date_in_range(start, end, day):\n",
    "    return start <= day <= end\n",
    "\n",
    "# the start and end days\n",
    "start = datetime(2022, 3, 28)\n",
    "end = datetime(2022, 5, 4)"
   ]
  },
  {
   "cell_type": "code",
   "execution_count": 7,
   "metadata": {},
   "outputs": [],
   "source": [
    "date_creation = []\n",
    "time_creation = []\n",
    "hr_value = []\n",
    "hr_bin = []\n",
    "time_bin = []\n",
    "day_week = []\n",
    "\n",
    "# grabbing all the rows for the selected time range\n",
    "for idx, row in hr_df.iterrows():\n",
    "    day = row['date_created']\n",
    "    day_dt = datetime.strptime(day, '%Y-%m-%d')\n",
    "    if date_in_range(start, end, day_dt) == True:\n",
    "        day_week.append(datetime.weekday(day_dt))\n",
    "        date_creation.append(day)\n",
    "        time_creation.append(row['time_created'])\n",
    "        hr_value.append(row['hr_values'])\n",
    "        hr_bin.append(row['hr_bin'])\n",
    "        time_bin.append(row['time_bin'])\n",
    "\n",
    "school_dict = {\n",
    "    'date_created': date_creation,\n",
    "    'time_created': time_creation,\n",
    "    'hr_values': hr_value,\n",
    "    'hr_bin': hr_bin,\n",
    "    'time_bin': time_bin,\n",
    "    'day_week': day_week\n",
    "}\n",
    "\n",
    "school_df = pd.DataFrame(school_dict)\n",
    "\n",
    "# removing all the weekend days\n",
    "school_df = school_df[school_df['day_week'] < 5]\n",
    "school_df.to_csv('out.csv', index =False)"
   ]
  },
  {
   "cell_type": "markdown",
   "metadata": {},
   "source": [
    "Get all the info for each day within our range of dates"
   ]
  },
  {
   "cell_type": "code",
   "execution_count": 8,
   "metadata": {},
   "outputs": [],
   "source": [
    "unique_dates = []\n",
    "daily_info = []\n",
    "avg_hr_list = []\n",
    "max_hr_list = []\n",
    "min_hr_list = []\n",
    "\n",
    "# find each day within the school_df\n",
    "for i in school_df['date_created']:\n",
    "    if i not in unique_dates:\n",
    "        unique_dates.append(i)\n",
    "\n",
    "# find the avg_hr, min_hr, max_hr, and median_hr for each day\n",
    "for i in unique_dates:\n",
    "    hrs = []\n",
    "    for idx, row in school_df.iterrows():\n",
    "        if i == row['date_created']:\n",
    "            hrs.append(row['hr_values'])\n",
    "    avg_hr = np.mean(hrs)\n",
    "    min_hr = np.min(hrs)\n",
    "    max_hr = np.max(hrs)\n",
    "    median_hr = np.median(hrs)\n",
    "\n",
    "    avg_hr_list.append(avg_hr)\n",
    "    max_hr_list.append(max_hr)\n",
    "    min_hr_list.append(min_hr)\n",
    "    \n",
    "    daily_dicts = {\n",
    "        'day': i,\n",
    "        'avg_hr': avg_hr,\n",
    "        'min_hr': min_hr,\n",
    "        'max_hr': max_hr,\n",
    "        'median_hr': median_hr\n",
    "    }\n",
    "\n",
    "    daily_info.append(daily_dicts)"
   ]
  },
  {
   "cell_type": "markdown",
   "metadata": {},
   "source": [
    "Plotting"
   ]
  },
  {
   "cell_type": "code",
   "execution_count": 9,
   "metadata": {},
   "outputs": [],
   "source": [
    "import matplotlib.pyplot as plt"
   ]
  },
  {
   "cell_type": "code",
   "execution_count": 10,
   "metadata": {},
   "outputs": [
    {
     "data": {
      "image/png": "[encoded data removed]",
      "text/plain": [
       "<Figure size 432x288 with 1 Axes>"
      ]
     },
     "metadata": {
      "needs_background": "light"
     },
     "output_type": "display_data"
    }
   ],
   "source": [
    "plt.plot(avg_hr_list, color='r')\n",
    "plt.plot(max_hr_list)\n",
    "plt.plot(min_hr_list)\n",
    "plt.show()"
   ]
  },
  {
   "cell_type": "code",
   "execution_count": 11,
   "metadata": {},
   "outputs": [
    {
     "ename": "SyntaxError",
     "evalue": "invalid syntax (4015916979.py, line 6)",
     "output_type": "error",
     "traceback": [
      "\u001b[1;36m  File \u001b[1;32m\"C:\\Users\\bmac9\\AppData\\Local\\Temp\\ipykernel_10572\\4015916979.py\"\u001b[1;36m, line \u001b[1;32m6\u001b[0m\n\u001b[1;33m    axd['upleft'].\u001b[0m\n\u001b[1;37m                  ^\u001b[0m\n\u001b[1;31mSyntaxError\u001b[0m\u001b[1;31m:\u001b[0m invalid syntax\n"
     ]
    }
   ],
   "source": [
    "fig, axd = plt.subplot_mosaic([['upleft', 'right'],\n",
    "                               ['lowleft', 'right']], layout='constrained')\n",
    "axd['upleft'].set_title('upleft')\n",
    "axd['lowleft'].set_title('lowleft')\n",
    "axd['right'].set_title('right')\n",
    "axd['upleft']."
   ]
  }
 ],
 "metadata": {
  "interpreter": {
   "hash": "0f6f2fa7f268b317200ccb4bf94fbe82974adf8aa0760e06c92d23da5f619a2c"
  },
  "kernelspec": {
   "display_name": "Python 3 (ipykernel)",
   "language": "python",
   "name": "python3"
  },
  "language_info": {
   "codemirror_mode": {
    "name": "ipython",
    "version": 3
   },
   "file_extension": ".py",
   "mimetype": "text/x-python",
   "name": "python",
   "nbconvert_exporter": "python",
   "pygments_lexer": "ipython3",
   "version": "3.9.7"
  }
 },
 "nbformat": 4,
 "nbformat_minor": 2
}
