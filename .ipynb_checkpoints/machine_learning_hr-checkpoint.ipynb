{
 "cells": [
  {
   "cell_type": "code",
   "execution_count": 1,
   "id": "700ced47",
   "metadata": {},
   "outputs": [],
   "source": [
    "# import dependencies\n",
    "# Python SQL toolkit and Object Relational Mapper\n",
    "import numpy as np\n",
    "import pandas as pd\n",
    "\n",
    "from sklearn.linear_model import LinearRegression\n",
    "from sklearn.model_selection import train_test_split\n",
    "from sklearn.ensemble import RandomForestClassifier"
   ]
  },
  {
   "cell_type": "code",
   "execution_count": 2,
   "id": "88e41202",
   "metadata": {},
   "outputs": [
    {
     "data": {
      "text/html": [
       "<div>\n",
       "<style scoped>\n",
       "    .dataframe tbody tr th:only-of-type {\n",
       "        vertical-align: middle;\n",
       "    }\n",
       "\n",
       "    .dataframe tbody tr th {\n",
       "        vertical-align: top;\n",
       "    }\n",
       "\n",
       "    .dataframe thead th {\n",
       "        text-align: right;\n",
       "    }\n",
       "</style>\n",
       "<table border=\"1\" class=\"dataframe\">\n",
       "  <thead>\n",
       "    <tr style=\"text-align: right;\">\n",
       "      <th></th>\n",
       "      <th>date_created</th>\n",
       "      <th>time_created</th>\n",
       "      <th>values</th>\n",
       "      <th>ranges</th>\n",
       "      <th>day_sections</th>\n",
       "      <th>day_of_week</th>\n",
       "    </tr>\n",
       "  </thead>\n",
       "  <tbody>\n",
       "    <tr>\n",
       "      <th>0</th>\n",
       "      <td>2022-03-28</td>\n",
       "      <td>18:44:22</td>\n",
       "      <td>96.0</td>\n",
       "      <td>normal</td>\n",
       "      <td>0</td>\n",
       "      <td>0</td>\n",
       "    </tr>\n",
       "    <tr>\n",
       "      <th>1</th>\n",
       "      <td>2022-03-28</td>\n",
       "      <td>18:45:04</td>\n",
       "      <td>105.0</td>\n",
       "      <td>normal</td>\n",
       "      <td>0</td>\n",
       "      <td>0</td>\n",
       "    </tr>\n",
       "    <tr>\n",
       "      <th>2</th>\n",
       "      <td>2022-03-28</td>\n",
       "      <td>18:45:09</td>\n",
       "      <td>98.0</td>\n",
       "      <td>normal</td>\n",
       "      <td>0</td>\n",
       "      <td>0</td>\n",
       "    </tr>\n",
       "    <tr>\n",
       "      <th>3</th>\n",
       "      <td>2022-03-28</td>\n",
       "      <td>18:45:14</td>\n",
       "      <td>100.0</td>\n",
       "      <td>normal</td>\n",
       "      <td>0</td>\n",
       "      <td>0</td>\n",
       "    </tr>\n",
       "    <tr>\n",
       "      <th>4</th>\n",
       "      <td>2022-03-28</td>\n",
       "      <td>18:45:19</td>\n",
       "      <td>100.0</td>\n",
       "      <td>normal</td>\n",
       "      <td>0</td>\n",
       "      <td>0</td>\n",
       "    </tr>\n",
       "  </tbody>\n",
       "</table>\n",
       "</div>"
      ],
      "text/plain": [
       "  date_created time_created  values  ranges  day_sections  day_of_week\n",
       "0   2022-03-28     18:44:22    96.0  normal             0            0\n",
       "1   2022-03-28     18:45:04   105.0  normal             0            0\n",
       "2   2022-03-28     18:45:09    98.0  normal             0            0\n",
       "3   2022-03-28     18:45:14   100.0  normal             0            0\n",
       "4   2022-03-28     18:45:19   100.0  normal             0            0"
      ]
     },
     "execution_count": 2,
     "metadata": {},
     "output_type": "execute_result"
    }
   ],
   "source": [
    "# import the dataset\n",
    "file_path = '../Resources/work_hr.csv'\n",
    "work_df = pd.read_csv(file_path)\n",
    "work_df.head()"
   ]
  },
  {
   "cell_type": "code",
   "execution_count": 41,
   "id": "242f6c9a",
   "metadata": {},
   "outputs": [
    {
     "data": {
      "text/plain": [
       "[40, 84.5, 124.0, 163.5, 205]"
      ]
     },
     "execution_count": 41,
     "metadata": {},
     "output_type": "execute_result"
    }
   ],
   "source": [
    "# Create 8 bins, spaced evenly\n",
    "# get maximum lat, min lat\n",
    "max_values = work_df['values'].max()\n",
    "min_values = work_df['values'].min()\n",
    "# get the difference and divide by the number of bins\n",
    "values_spacing = (max_values - min_values)/4\n",
    "values_bins = [1, 2, 3, 4]\n",
    "\n",
    "#build bins\n",
    "bins = []\n",
    "for x in np.arange(min_values, max_values, values_spacing):\n",
    "    bins.append(x)\n",
    "\n",
    "# make first and last values larger/smaller to catch all\n",
    "bins.append(205)\n",
    "bins[0] = 40\n",
    "\n",
    "bins"
   ]
  },
  {
   "cell_type": "code",
   "execution_count": 42,
   "id": "e519bd92",
   "metadata": {},
   "outputs": [
    {
     "data": {
      "text/plain": [
       "1    5819\n",
       "2    5014\n",
       "3     262\n",
       "4     199\n",
       "Name: values_bins, dtype: int64"
      ]
     },
     "execution_count": 42,
     "metadata": {},
     "output_type": "execute_result"
    }
   ],
   "source": [
    "work_df[\"values_bins\"] = pd.cut(work_df[\"values\"], bins, labels=values_bins)\n",
    "work_df[\"values_bins\"].value_counts()"
   ]
  },
  {
   "cell_type": "code",
   "execution_count": 43,
   "id": "96468c41",
   "metadata": {},
   "outputs": [],
   "source": [
    "ml_df = work_df[['values_bins', 'day_sections', 'day_of_week']]"
   ]
  },
  {
   "cell_type": "code",
   "execution_count": 44,
   "id": "2fc05371",
   "metadata": {},
   "outputs": [],
   "source": [
    "target_df = ml_df[['values_bins']]\n",
    "feature_df = ml_df[['day_sections', 'day_of_week']]"
   ]
  },
  {
   "cell_type": "code",
   "execution_count": 45,
   "id": "9fc9c1ee",
   "metadata": {},
   "outputs": [],
   "source": [
    "X = feature_df\n",
    "y = target_df"
   ]
  },
  {
   "cell_type": "code",
   "execution_count": 46,
   "id": "d26de5b8",
   "metadata": {},
   "outputs": [],
   "source": [
    "# split into training and testing sets\n",
    "X_train, X_test, y_train, y_test = train_test_split(X, y, random_state=42)"
   ]
  },
  {
   "cell_type": "markdown",
   "id": "9e924a66",
   "metadata": {},
   "source": [
    "## Linear Regression"
   ]
  },
  {
   "cell_type": "code",
   "execution_count": 47,
   "id": "5d346a92",
   "metadata": {},
   "outputs": [],
   "source": [
    "# create a linear model\n",
    "model_regression = LinearRegression()"
   ]
  },
  {
   "cell_type": "code",
   "execution_count": 48,
   "id": "bbe3e07f",
   "metadata": {},
   "outputs": [
    {
     "data": {
      "text/plain": [
       "LinearRegression()"
      ]
     },
     "execution_count": 48,
     "metadata": {},
     "output_type": "execute_result"
    }
   ],
   "source": [
    "# fit our model to the training data\n",
    "model_regression.fit(X_train, y_train)"
   ]
  },
  {
   "cell_type": "code",
   "execution_count": 49,
   "id": "087f7e0c",
   "metadata": {},
   "outputs": [
    {
     "data": {
      "text/plain": [
       "0.11422502366651788"
      ]
     },
     "execution_count": 49,
     "metadata": {},
     "output_type": "execute_result"
    }
   ],
   "source": [
    "model_regression.score(X_test, y_test)"
   ]
  },
  {
   "cell_type": "markdown",
   "id": "42d057fd",
   "metadata": {},
   "source": [
    "## Random Forest Classifier"
   ]
  },
  {
   "cell_type": "code",
   "execution_count": 50,
   "id": "97e18a72",
   "metadata": {},
   "outputs": [
    {
     "name": "stderr",
     "output_type": "stream",
     "text": [
      "C:\\Users\\bmac9\\anaconda3\\envs\\mlenv\\lib\\site-packages\\ipykernel_launcher.py:3: DataConversionWarning: A column-vector y was passed when a 1d array was expected. Please change the shape of y to (n_samples,), for example using ravel().\n",
      "  This is separate from the ipykernel package so we can avoid doing imports until\n"
     ]
    },
    {
     "data": {
      "text/plain": [
       "RandomForestClassifier(random_state=1)"
      ]
     },
     "execution_count": 50,
     "metadata": {},
     "output_type": "execute_result"
    }
   ],
   "source": [
    "# Calculate feature importance in the Random Forest model.\n",
    "model_rfc = RandomForestClassifier(random_state=1, n_estimators=100)\n",
    "model_rfc.fit(X_train, y_train)"
   ]
  },
  {
   "cell_type": "code",
   "execution_count": 51,
   "id": "59f8e006",
   "metadata": {},
   "outputs": [
    {
     "name": "stdout",
     "output_type": "stream",
     "text": [
      "Training Score: 0.6429752066115703\n",
      "Testing Score: 0.6441218130311614\n"
     ]
    }
   ],
   "source": [
    "print(f'Training Score: {model_rfc.score(X_train, y_train)}')\n",
    "print(f'Testing Score: {model_rfc.score(X_test, y_test)}')"
   ]
  },
  {
   "cell_type": "code",
   "execution_count": 52,
   "id": "18624fd1",
   "metadata": {},
   "outputs": [
    {
     "data": {
      "text/plain": [
       "array([0.3360035, 0.6639965])"
      ]
     },
     "execution_count": 52,
     "metadata": {},
     "output_type": "execute_result"
    }
   ],
   "source": [
    "feature_importances = model_rfc.feature_importances_\n",
    "feature_importances"
   ]
  },
  {
   "cell_type": "code",
   "execution_count": 53,
   "id": "99bfeb46",
   "metadata": {},
   "outputs": [
    {
     "data": {
      "text/plain": [
       "array([1, 2, 1, ..., 2, 2, 1], dtype=int64)"
      ]
     },
     "execution_count": 53,
     "metadata": {},
     "output_type": "execute_result"
    }
   ],
   "source": [
    "y_pred = model_rfc.predict(X_test)\n",
    "y_pred"
   ]
  },
  {
   "cell_type": "code",
   "execution_count": 54,
   "id": "48814a0d",
   "metadata": {},
   "outputs": [],
   "source": [
    "comparison_pd = X_test"
   ]
  },
  {
   "cell_type": "code",
   "execution_count": 55,
   "id": "4f2a76cb",
   "metadata": {},
   "outputs": [],
   "source": [
    "comparison_pd['predicted_values'] = y_pred"
   ]
  },
  {
   "cell_type": "code",
   "execution_count": 56,
   "id": "9bc0885f",
   "metadata": {},
   "outputs": [],
   "source": [
    "comparison_pd = comparison_pd.join(y_test)"
   ]
  },
  {
   "cell_type": "code",
   "execution_count": 57,
   "id": "9d2ac8ba",
   "metadata": {},
   "outputs": [
    {
     "name": "stdout",
     "output_type": "stream",
     "text": [
      "<class 'pandas.core.frame.DataFrame'>\n",
      "Int64Index: 2824 entries, 3784 to 8612\n",
      "Data columns (total 4 columns):\n",
      " #   Column            Non-Null Count  Dtype   \n",
      "---  ------            --------------  -----   \n",
      " 0   day_sections      2824 non-null   int64   \n",
      " 1   day_of_week       2824 non-null   int64   \n",
      " 2   predicted_values  2824 non-null   int64   \n",
      " 3   values_bins       2824 non-null   category\n",
      "dtypes: category(1), int64(3)\n",
      "memory usage: 155.7 KB\n"
     ]
    }
   ],
   "source": [
    "comparison_pd.info()"
   ]
  },
  {
   "cell_type": "code",
   "execution_count": 58,
   "id": "01f3f65e",
   "metadata": {},
   "outputs": [
    {
     "data": {
      "text/html": [
       "<div>\n",
       "<style scoped>\n",
       "    .dataframe tbody tr th:only-of-type {\n",
       "        vertical-align: middle;\n",
       "    }\n",
       "\n",
       "    .dataframe tbody tr th {\n",
       "        vertical-align: top;\n",
       "    }\n",
       "\n",
       "    .dataframe thead th {\n",
       "        text-align: right;\n",
       "    }\n",
       "</style>\n",
       "<table border=\"1\" class=\"dataframe\">\n",
       "  <thead>\n",
       "    <tr style=\"text-align: right;\">\n",
       "      <th></th>\n",
       "      <th>predicted_values</th>\n",
       "      <th>values_bins</th>\n",
       "    </tr>\n",
       "  </thead>\n",
       "  <tbody>\n",
       "    <tr>\n",
       "      <th>3784</th>\n",
       "      <td>1</td>\n",
       "      <td>1</td>\n",
       "    </tr>\n",
       "    <tr>\n",
       "      <th>4643</th>\n",
       "      <td>2</td>\n",
       "      <td>2</td>\n",
       "    </tr>\n",
       "    <tr>\n",
       "      <th>11253</th>\n",
       "      <td>1</td>\n",
       "      <td>1</td>\n",
       "    </tr>\n",
       "    <tr>\n",
       "      <th>1923</th>\n",
       "      <td>1</td>\n",
       "      <td>1</td>\n",
       "    </tr>\n",
       "    <tr>\n",
       "      <th>1839</th>\n",
       "      <td>1</td>\n",
       "      <td>1</td>\n",
       "    </tr>\n",
       "    <tr>\n",
       "      <th>...</th>\n",
       "      <td>...</td>\n",
       "      <td>...</td>\n",
       "    </tr>\n",
       "    <tr>\n",
       "      <th>4170</th>\n",
       "      <td>2</td>\n",
       "      <td>2</td>\n",
       "    </tr>\n",
       "    <tr>\n",
       "      <th>9723</th>\n",
       "      <td>1</td>\n",
       "      <td>1</td>\n",
       "    </tr>\n",
       "    <tr>\n",
       "      <th>2110</th>\n",
       "      <td>2</td>\n",
       "      <td>2</td>\n",
       "    </tr>\n",
       "    <tr>\n",
       "      <th>2375</th>\n",
       "      <td>2</td>\n",
       "      <td>1</td>\n",
       "    </tr>\n",
       "    <tr>\n",
       "      <th>8612</th>\n",
       "      <td>1</td>\n",
       "      <td>2</td>\n",
       "    </tr>\n",
       "  </tbody>\n",
       "</table>\n",
       "<p>2824 rows × 2 columns</p>\n",
       "</div>"
      ],
      "text/plain": [
       "       predicted_values values_bins\n",
       "3784                  1           1\n",
       "4643                  2           2\n",
       "11253                 1           1\n",
       "1923                  1           1\n",
       "1839                  1           1\n",
       "...                 ...         ...\n",
       "4170                  2           2\n",
       "9723                  1           1\n",
       "2110                  2           2\n",
       "2375                  2           1\n",
       "8612                  1           2\n",
       "\n",
       "[2824 rows x 2 columns]"
      ]
     },
     "execution_count": 58,
     "metadata": {},
     "output_type": "execute_result"
    }
   ],
   "source": [
    "comparison_pd[['predicted_values', 'values_bins']]"
   ]
  },
  {
   "cell_type": "code",
   "execution_count": 59,
   "id": "6b279f6c",
   "metadata": {},
   "outputs": [
    {
     "name": "stdout",
     "output_type": "stream",
     "text": [
      "2    1447\n",
      "1    1377\n",
      "Name: predicted_values, dtype: int64\n",
      "1    1451\n",
      "2    1259\n",
      "3      62\n",
      "4      52\n",
      "Name: values_bins, dtype: int64\n"
     ]
    }
   ],
   "source": [
    "print(comparison_pd['predicted_values'].value_counts())\n",
    "print(comparison_pd['values_bins'].value_counts())"
   ]
  },
  {
   "cell_type": "code",
   "execution_count": null,
   "id": "74d6e404",
   "metadata": {},
   "outputs": [],
   "source": []
  },
  {
   "cell_type": "code",
   "execution_count": null,
   "id": "95e123c7",
   "metadata": {},
   "outputs": [],
   "source": []
  }
 ],
 "metadata": {
  "kernelspec": {
   "display_name": "mlenv",
   "language": "python",
   "name": "mlenv"
  },
  "language_info": {
   "codemirror_mode": {
    "name": "ipython",
    "version": 3
   },
   "file_extension": ".py",
   "mimetype": "text/x-python",
   "name": "python",
   "nbconvert_exporter": "python",
   "pygments_lexer": "ipython3",
   "version": "3.7.13"
  }
 },
 "nbformat": 4,
 "nbformat_minor": 5
}
